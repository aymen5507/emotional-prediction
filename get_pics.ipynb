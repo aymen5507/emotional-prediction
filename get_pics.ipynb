{
 "cells": [
  {
   "cell_type": "code",
   "execution_count": null,
   "metadata": {},
   "outputs": [],
   "source": [
    "### install requirements ###\n",
    "\n",
    "!pip install --upgrade diffusers[torch]\n",
    "!pip install transformers"
   ]
  }
 ],
 "metadata": {
  "language_info": {
   "name": "python"
  }
 },
 "nbformat": 4,
 "nbformat_minor": 2
}
